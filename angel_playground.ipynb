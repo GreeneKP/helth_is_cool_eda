{
 "cells": [
  {
   "cell_type": "markdown",
   "metadata": {},
   "source": [
    "# Dataset Playground"
   ]
  },
  {
   "cell_type": "markdown",
   "metadata": {},
   "source": [
    "## Imports"
   ]
  },
  {
   "cell_type": "code",
   "execution_count": null,
   "metadata": {},
   "outputs": [],
   "source": [
    "import numpy as np\n",
    "import pandas as pd\n",
    "import matplotlib.pyplot as plt\n",
    "from matplotlib.axes import Axes\n",
    "import numpy.typing as npt\n",
    "from typing import List, Union\n",
    "import helper_func as hf"
   ]
  },
  {
   "cell_type": "markdown",
   "metadata": {},
   "source": [
    "## Load the data"
   ]
  },
  {
   "cell_type": "code",
   "execution_count": null,
   "metadata": {},
   "outputs": [],
   "source": [
    "health_df = pd.read_csv(\"./data/data.csv\")\n",
    "health_df.head()\n"
   ]
  },
  {
   "cell_type": "markdown",
   "metadata": {},
   "source": [
    "## Sorting data"
   ]
  },
  {
   "cell_type": "code",
   "execution_count": null,
   "metadata": {},
   "outputs": [],
   "source": [
    "indicators_df = health_df.groupby(['Indicator Name']).sum(numeric_only=True).sort_values(\"1960\")\n",
    "\n",
    "\n",
    "hiv_by_year_df: pd.DataFrame = indicators_df.T.iloc[15:]\n",
    "\n",
    "hiv_by_year_df.head(10)\n"
   ]
  },
  {
   "cell_type": "markdown",
   "metadata": {},
   "source": [
    "### Filtered list"
   ]
  },
  {
   "cell_type": "code",
   "execution_count": null,
   "metadata": {},
   "outputs": [],
   "source": [
    "filtered_hiv_by_year_df = hiv_by_year_df[[\"% of males ages 15-49 having comprehensive correct knowledge about HIV (2 prevent ways and reject 3 misconceptions)\",\n",
    "    \"Literacy rate, adult male (% of males ages 15 and above)\",\n",
    "    \"Urban population\",\n",
    "    \"Rural population\"\n",
    "    \n",
    "    \n",
    "                 ]]\n",
    "filtered_hiv_by_year_df.rename(columns={\"% of males ages 15-49 having comprehensive correct knowledge about HIV (2 prevent ways and reject 3 misconceptions)\": \"Males 19-49 knowledge\", \n",
    "                                        \"Literacy rate, adult male (% of males ages 15 and above)\": \"Adult male literacy rate\"}, inplace=True)\n",
    "filtered_hiv_by_year_df.drop(\"Unnamed: 60\", inplace=True)\n",
    "filtered_hiv_by_year_df"
   ]
  },
  {
   "cell_type": "markdown",
   "metadata": {},
   "source": [
    "#### Scale pulation to 10^7"
   ]
  },
  {
   "cell_type": "code",
   "execution_count": null,
   "metadata": {},
   "outputs": [],
   "source": [
    "\n",
    "filtered_hiv_by_year_df.rename(columns={\"Urban population\": \"Urban population x 10^7\",\n",
    "                                        \"Rural population\": \"Rural population x 10^7\" }, inplace=True)\n",
    "filtered_hiv_by_year_df[\"Rural population x 10^7\"] = filtered_hiv_by_year_df[\"Rural population x 10^7\"].apply(lambda val: val / (10**7))\n",
    "\n",
    "filtered_hiv_by_year_df[\"Urban population x 10^7\"] = filtered_hiv_by_year_df[\"Urban population x 10^7\"].apply(lambda val: val / (10**7))\n",
    "filtered_hiv_by_year_df.head()"
   ]
  },
  {
   "cell_type": "markdown",
   "metadata": {},
   "source": [
    "#### Adds ratio of literacy to urban/rural population"
   ]
  },
  {
   "cell_type": "code",
   "execution_count": null,
   "metadata": {},
   "outputs": [],
   "source": [
    "filtered_hiv_by_year_df[\"Literacy to rural population\"] = filtered_hiv_by_year_df[\"Adult male literacy rate\"]/filtered_hiv_by_year_df[\"Rural population x 10^7\"]\n",
    "filtered_hiv_by_year_df[\"Literacy to Urban population\"] = filtered_hiv_by_year_df[\"Adult male literacy rate\"]/filtered_hiv_by_year_df[\"Urban population x 10^7\"]\n",
    "filtered_hiv_by_year_df.head()"
   ]
  },
  {
   "cell_type": "markdown",
   "metadata": {},
   "source": [
    "### Line Graph"
   ]
  },
  {
   "cell_type": "markdown",
   "metadata": {},
   "source": [
    "#### Adds ratio of males 19-49 knowledge to polulation"
   ]
  },
  {
   "cell_type": "code",
   "execution_count": null,
   "metadata": {},
   "outputs": [],
   "source": [
    "filtered_hiv_by_year_df[\"Male knowledge to rural population\"] = filtered_hiv_by_year_df[\"Males 19-49 knowledge\"]/filtered_hiv_by_year_df[\"Rural population x 10^7\"]\n",
    "filtered_hiv_by_year_df[\"Male knowledgeto Urban population\"] = filtered_hiv_by_year_df[\"Males 19-49 knowledge\"]/filtered_hiv_by_year_df[\"Urban population x 10^7\"]\n",
    "filtered_hiv_by_year_df.sample(5)"
   ]
  },
  {
   "cell_type": "markdown",
   "metadata": {},
   "source": [
    "#### Graph function"
   ]
  },
  {
   "cell_type": "code",
   "execution_count": null,
   "metadata": {},
   "outputs": [],
   "source": [
    "ax: Axes\n",
    "fig, ax = plt.subplots()\n",
    "\n",
    "ax.plot(filtered_hiv_by_year_df.index, filtered_hiv_by_year_df[\"Rural population x 10^7\"], label=\"Rural population x 10^7\") \n",
    "# ax.plot(filtered_hiv_by_year_df.index, filtered_hiv_by_year_df[\"Urban population\"], label=\"Urban population\") \n",
    "ax.plot(filtered_hiv_by_year_df.index, filtered_hiv_by_year_df[\"Males 19-49 knowledge\"], label=\"Males 19-49 knowledge\") \n",
    "ax.plot(filtered_hiv_by_year_df.index, filtered_hiv_by_year_df[\"Adult male literacy rate\"], label=\"Adult male literacy rate\") \n",
    "\n",
    "\n",
    "ax.legend()\n",
    "fig.tight_layout()"
   ]
  },
  {
   "cell_type": "code",
   "execution_count": null,
   "metadata": {},
   "outputs": [],
   "source": [
    "hf.create_line_chart (filtered_hiv_by_year_df)"
   ]
  },
  {
   "cell_type": "code",
   "execution_count": null,
   "metadata": {},
   "outputs": [],
   "source": [
    "ax: Axes\n",
    "fig, ax = plt.subplots()\n",
    "\n",
    "ax.plot( filtered_hiv_by_year_df[\"Literacy to Urban population\"], label=\"Literacy to Urban population\")\n",
    "ax.plot( filtered_hiv_by_year_df[\"Literacy to rural population\"], label=\"Literacy to rural population\")\n",
    "\n",
    "ax.set_ylabel(\"population x 10^7\")\n",
    "ax.set_xlabel(\"Adult male literacy rate\")\n",
    "ax.legend()\n",
    "fig.tight_layout()"
   ]
  }
 ],
 "metadata": {
  "kernelspec": {
   "display_name": "base",
   "language": "python",
   "name": "python3"
  },
  "language_info": {
   "codemirror_mode": {
    "name": "ipython",
    "version": 3
   },
   "file_extension": ".py",
   "mimetype": "text/x-python",
   "name": "python",
   "nbconvert_exporter": "python",
   "pygments_lexer": "ipython3",
   "version": "3.11.7"
  }
 },
 "nbformat": 4,
 "nbformat_minor": 2
}
